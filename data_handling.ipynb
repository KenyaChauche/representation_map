{
 "cells": [
  {
   "cell_type": "code",
   "execution_count": 44,
   "metadata": {},
   "outputs": [],
   "source": [
    "import pandas as pd\n",
    "import numpy as np\n",
    "\n",
    "# csv downloaded from this repo\n",
    "# https://github.com/unitedstates/congress-legislators\n",
    "df = pd.read_csv(\"./data/legislators-current.csv\", na_values = 'NULL').fillna(value = 'NULL')"
   ]
  },
  {
   "cell_type": "code",
   "execution_count": 53,
   "metadata": {},
   "outputs": [],
   "source": [
    "twitter_links = [f\"https://twitter.com/{handle}\" if handle != 'NULL' else None for handle in df['twitter']]\n",
    "\n",
    "billsponsor_links = [f\"https://www.congress.gov/member/{df.loc[i, 'first_name'].lower()}-{df.loc[i, 'last_name'].lower()}/{df.loc[i, 'bioguide_id']}\" for i in df.index]\n",
    "\n",
    "votingrecord_links = [f\"https://clerk.house.gov/members/{df.loc[i, 'bioguide_id']}\" for i in df.index]"
   ]
  },
  {
   "cell_type": "code",
   "execution_count": 58,
   "metadata": {},
   "outputs": [],
   "source": [
    "df['twitter_handle'] = twitter_links\n",
    "df['bill_sponsors'] = billsponsor_links\n",
    "df['voting_record'] = votingrecord_links"
   ]
  },
  {
   "cell_type": "code",
   "execution_count": 130,
   "metadata": {},
   "outputs": [],
   "source": [
    "import wikipedia as wiki\n",
    "import wptools as wp"
   ]
  },
  {
   "cell_type": "code",
   "execution_count": 142,
   "metadata": {},
   "outputs": [
    {
     "name": "stderr",
     "output_type": "stream",
     "text": [
      "en.wikipedia.org (query) Bill Cassidy\n",
      "en.wikipedia.org (query) Bill Cassidy (&plcontinue=9386382|0|Unit...\n",
      "en.wikipedia.org (parse) 9386382\n",
      "www.wikidata.org (wikidata) Q861999\n",
      "www.wikidata.org (labels) P1329|Q61|Q98077491|P937|Q5|P646|P2013|...\n",
      "www.wikidata.org (labels) Q16865428|Q30|P1157|P856|Q82955|P735|P108\n",
      "en.wikipedia.org (restbase) /page/summary/Bill_Cassidy\n",
      "en.wikipedia.org (imageinfo) File:Bill Cassidy, official 111th Co...\n",
      "Bill Cassidy (en) data\n",
      "{\n",
      "  WARNINGS: <dict(1)> extracts\n",
      "  aliases: <list(1)> William Morgan \"Bill\" Cassidy\n",
      "  assessments: <dict(4)> United States, Biography, Conservatism, U...\n",
      "  claims: <dict(38)> P21, P27, P106, P39, P102, P69, P569, P31, P1...\n",
      "  description: American physician and politician\n",
      "  exhtml: <str(322)> <p><b>William Morgan Cassidy</b> is an Americ...\n",
      "  exrest: <str(308)> William Morgan Cassidy is an American physici...\n",
      "  extext: <str(895)> **William Morgan Cassidy** (born September 28...\n",
      "  extract: <str(951)> <p class=\"mw-empty-elt\"></p><p><b>William Mo...\n",
      "  image: <list(9)> {'kind': 'query-pageimage', 'file': 'File:Bill ...\n",
      "  infobox: <dict(28)> name, image, alongside, jr/sr, predecessor, ...\n",
      "  label: Bill Cassidy\n",
      "  labels: <dict(57)> P1329, Q61, Q98077491, P937, Q5, P646, P2013,...\n",
      "  length: 42,800\n",
      "  links: <list(524)> 111th United States Congress, 112th United St...\n",
      "  modified: <dict(2)> page, wikidata\n",
      "  pageid: 9386382\n",
      "  parsetree: <str(54759)> <root><template><title>short description...\n",
      "  random: Jacklyn H. Lucas\n",
      "  redirects: <list(6)> {'pageid': 11759212, 'ns': 0, 'title': 'Wil...\n",
      "  requests: <list(8)> query, query, parse, wikidata, labels, label...\n",
      "  title: Bill_Cassidy\n",
      "  url: https://en.wikipedia.org/wiki/Bill_Cassidy\n",
      "  url_raw: https://en.wikipedia.org/wiki/Bill_Cassidy?action=raw\n",
      "  watchers: 46\n",
      "  what: human\n",
      "  wikibase: Q861999\n",
      "  wikidata: <dict(38)> sex or gender (P21), country of citizenship...\n",
      "  wikidata_pageid: 813467\n",
      "  wikidata_url: https://www.wikidata.org/wiki/Q861999\n",
      "  wikitext: <str(42347)> {{short description|American physician an...\n",
      "}\n"
     ]
    }
   ],
   "source": [
    "page = wp.page(df.loc[56, 'wikipedia_id']).get()"
   ]
  },
  {
   "cell_type": "code",
   "execution_count": 144,
   "metadata": {},
   "outputs": [
    {
     "data": {
      "text/plain": [
       "'[[Louisiana State University]] ([[Bachelor of Science|BS]], [[Doctor of Medicine|MD]])'"
      ]
     },
     "execution_count": 144,
     "metadata": {},
     "output_type": "execute_result"
    }
   ],
   "source": [
    "infobox = page.data['infobox']['education']\n",
    "\n",
    "infobox"
   ]
  },
  {
   "cell_type": "code",
   "execution_count": null,
   "metadata": {},
   "outputs": [],
   "source": []
  }
 ],
 "metadata": {
  "kernelspec": {
   "display_name": "Python 3",
   "language": "python",
   "name": "python3"
  },
  "language_info": {
   "codemirror_mode": {
    "name": "ipython",
    "version": 3
   },
   "file_extension": ".py",
   "mimetype": "text/x-python",
   "name": "python",
   "nbconvert_exporter": "python",
   "pygments_lexer": "ipython3",
   "version": "3.7.4"
  }
 },
 "nbformat": 4,
 "nbformat_minor": 2
}
